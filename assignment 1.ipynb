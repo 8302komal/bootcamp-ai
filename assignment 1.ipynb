{
 "cells": [
  {
   "cell_type": "code",
   "execution_count": 1,
   "id": "ccfd2ae2-8324-4491-87a1-03ecddb64df1",
   "metadata": {},
   "outputs": [
    {
     "name": "stdout",
     "output_type": "stream",
     "text": [
      "My name is tanushree\n",
      "eerhsunat si eman yM\n"
     ]
    }
   ],
   "source": [
    "#this is the program for to  print string in reverse order\n",
    "str = \"My name is komal ingle\"\n",
    "print (str)\n",
    "rev_str = str [::-1]\n",
    "print(rev_str)"
   ]
  },
  {
   "cell_type": "code",
   "execution_count": 3,
   "id": "757de59c-fa62-427a-b0e2-b31df2c6709e",
   "metadata": {},
   "outputs": [
    {
     "name": "stdout",
     "output_type": "stream",
     "text": [
      "Random Numbers: [71, 7, 28, 77, 66, 51, 68, 45, 14, 86, 9, 84, 68, 76, 37, 43, 66, 7, 57, 54]\n",
      "even Numbers: [28, 66, 68, 14, 86, 84, 68, 76, 66, 54]\n"
     ]
    }
   ],
   "source": [
    "#this is the program for to pick random number and even number\n",
    "import random\n",
    "random_numbers = [random.randint(1,100) for _ in range (20)]\n",
    "print(\"Random Numbers:\" , random_numbers)\n",
    "even_number = [num for num in random_numbers if num % 2==0]\n",
    "print(\"even Numbers:\", even_number)\n"
   ]
  },
  {
   "cell_type": "code",
   "execution_count": null,
   "id": "7a75dd5e-dc0f-4ab1-b43b-770b085ad5f8",
   "metadata": {},
   "outputs": [],
   "source": []
  }
 ],
 "metadata": {
  "kernelspec": {
   "display_name": "Python [conda env:base] *",
   "language": "python",
   "name": "conda-base-py"
  },
  "language_info": {
   "codemirror_mode": {
    "name": "ipython",
    "version": 3
   },
   "file_extension": ".py",
   "mimetype": "text/x-python",
   "name": "python",
   "nbconvert_exporter": "python",
   "pygments_lexer": "ipython3",
   "version": "3.12.7"
  }
 },
 "nbformat": 4,
 "nbformat_minor": 5
}
