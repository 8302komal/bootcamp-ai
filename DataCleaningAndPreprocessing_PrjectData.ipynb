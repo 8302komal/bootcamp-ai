### Khubh Mela Data Analytics Project
# Data Preprocessing with Pandas and Numpy

# Step 1: Import Libraries
import pandas as pd
import numpy as np
