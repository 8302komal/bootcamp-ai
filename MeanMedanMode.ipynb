{
 "cells": [
  {
   "cell_type": "markdown",
   "id": "23e4505c-b6bb-437b-93e7-82529d1799bb",
   "metadata": {},
   "source": [
    "Let’s understand **min**, **max**, **mean**, **median**, **mode**, and their significance using a dataset about students' scores in various exams. Here’s an example dataset:\n",
    "\n",
    "| **Student** | **Math** | **Science** | **English** |\n",
    "|-------------|----------|-------------|-------------|\n",
    "| A           | 90       | 85          | 88          |\n",
    "| B           | 78       | 92          | 80          |\n",
    "| C           | 85       | 78          | 90          |\n",
    "| D           | 60       | 65          | 70          |\n",
    "| E           | 95       | 88          | 92          |\n",
    "\n"
   ]
  },
  {
   "cell_type": "markdown",
   "id": "0ecf5a9d-f0c8-4e25-85a4-75b121011cf2",
   "metadata": {},
   "source": [
    "### 1. **Minimum (Min)**\n",
    "- **What it means**: The smallest score in each subject.\n",
    "- **Example**: \n",
    "  - In **Math**, the minimum score is **60** (Student D).\n",
    "  - In **Science**, the minimum score is **65** (Student D).\n",
    "  - In **English**, the minimum score is **70** (Student D).\n",
    "- **Significance**: Identifies the lowest-performing student or subject. This can highlight areas where additional attention is needed."
   ]
  },
  {
   "cell_type": "markdown",
   "id": "a9b01a1e-3c3f-4b03-8e2a-a1966667419f",
   "metadata": {},
   "source": [
    "### 2. **Maximum (Max)**\n",
    "- **What it means**: The highest score in each subject.\n",
    "- **Example**: \n",
    "  - In **Math**, the maximum score is **95** (Student E).\n",
    "  - In **Science**, the maximum score is **92** (Student B).\n",
    "  - In **English**, the maximum score is **92** (Student E).\n",
    "- **Significance**: Identifies the top-performing student or subject. Useful for recognizing excellence."
   ]
  },
  {
   "cell_type": "markdown",
   "id": "9ff704dd-4014-441a-8f12-f598f58f38a2",
   "metadata": {},
   "source": [
    "### 3. **Average (Mean)**\n",
    "- **What it means**: The sum of all scores divided by the number of students. Often referred to as the mean.\n",
    "- **Example**: \n",
    "  - In **Math**, the mean is:\n",
    "    (90 + 78 + 85 + 60 + 95)/(5) = 81.6\n",
    "  - Similarly, calculate for other subjects.\n",
    "- **Significance**: Provides a central value for comparison, helping to assess the overall performance of the class."
   ]
  },
  {
   "cell_type": "markdown",
   "id": "4298373e-8c23-4dd5-a0db-f0f0eca392eb",
   "metadata": {},
   "source": [
    "### 4. **Median**\n",
    "- **What it means**: The middle score when all scores are arranged in ascending order.\n",
    "- **Example**: \n",
    "  - In **Math**, the scores are [60, 78, 85, 90, 95]. The **median** is **85**.\n",
    "  - Similarly, calculate for other subjects.\n",
    "- **Significance**: Represents the \"middle\" student’s score, unaffected by extremely high or low scores."
   ]
  },
  {
   "cell_type": "markdown",
   "id": "11ede70f-834d-46df-90b8-9e9bcf7a7893",
   "metadata": {},
   "source": [
    "### 5. **Mode**\n",
    "- **What it means**: The score that occurs most frequently.\n",
    "- **Example**: \n",
    "  - If in **English**, students scored [88, 80, 90, 70, 92], there’s no repeating value, so there’s no mode.\n",
    "  - If scores were [88, 88, 90, 70, 92], the mode would be **88**.\n",
    "- **Significance**: Helps identify the most common performance level in a subject."
   ]
  },
  {
   "cell_type": "markdown",
   "id": "dbcdc72b-8636-4e8e-91f4-67bf9c48cf02",
   "metadata": {},
   "source": [
    "### Why These Metrics Matter:\n",
    "- **Min/Max**: Highlight the range of student performance, helping identify outliers or extreme cases.\n",
    "- **Mean**: Shows the average performance of the class in each subject, useful for understanding overall trends.\n",
    "- **Median**: Useful when there are outliers (e.g., one student scoring extremely low or high), as it gives a balanced central value.\n",
    "- **Mode**: Highlights frequently occurring scores, helping to spot popular trends or common levels of achievement."
   ]
  },
  {
   "cell_type": "markdown",
   "id": "7147c6c4-0e74-409c-9d98-49df9a78195a",
   "metadata": {},
   "source": [
    "### Example Use Case:\n",
    "If the average score in **Math** is **81.6**, but the minimum is **60**, it suggests there may be a few students pulling the average down.\n",
    "\n",
    "The **median** of **85** indicates that most students performed better than the average. \n",
    "\n",
    "Teachers can use this information to focus on weaker students while encouraging top scorers to maintain their performance."
   ]
  },
  {
   "cell_type": "code",
   "execution_count": null,
   "id": "190f1396-a0f2-4c70-903c-314dd71270dc",
   "metadata": {},
   "outputs": [],
   "source": []
  }
 ],
 "metadata": {
  "kernelspec": {
   "display_name": "Python 3 (ipykernel)",
   "language": "python",
   "name": "python3"
  },
  "language_info": {
   "codemirror_mode": {
    "name": "ipython",
    "version": 3
   },
   "file_extension": ".py",
   "mimetype": "text/x-python",
   "name": "python",
   "nbconvert_exporter": "python",
   "pygments_lexer": "ipython3",
   "version": "3.12.8"
  }
 },
 "nbformat": 4,
 "nbformat_minor": 5
}
